{
 "cells": [
  {
   "cell_type": "code",
   "execution_count": 5,
   "id": "273ab35f",
   "metadata": {},
   "outputs": [
    {
     "name": "stdout",
     "output_type": "stream",
     "text": [
      "hello world\n"
     ]
    }
   ],
   "source": [
    "print(\"hello world\")\n"
   ]
  },
  {
   "cell_type": "code",
   "execution_count": 6,
   "id": "e01bb669",
   "metadata": {},
   "outputs": [
    {
     "data": {
      "text/plain": [
       "array([[0, 1, 2, 3, 4],\n",
       "       [5, 6, 7, 8, 9]])"
      ]
     },
     "execution_count": 6,
     "metadata": {},
     "output_type": "execute_result"
    }
   ],
   "source": [
    "import numpy as np \n",
    "a = np.arange(10).reshape(2,5)\n",
    "a\n"
   ]
  },
  {
   "cell_type": "code",
   "execution_count": 7,
   "id": "257080b1",
   "metadata": {},
   "outputs": [
    {
     "data": {
      "text/plain": [
       "array([[10, 11],\n",
       "       [12, 13],\n",
       "       [14, 15],\n",
       "       [16, 17],\n",
       "       [18, 19]])"
      ]
     },
     "execution_count": 7,
     "metadata": {},
     "output_type": "execute_result"
    }
   ],
   "source": [
    "b = np.arange(10,20,1).reshape(5,2)\n",
    "b"
   ]
  },
  {
   "cell_type": "code",
   "execution_count": 8,
   "id": "5fab379a",
   "metadata": {},
   "outputs": [
    {
     "data": {
      "text/plain": [
       "array([[160, 170],\n",
       "       [510, 545]])"
      ]
     },
     "execution_count": 8,
     "metadata": {},
     "output_type": "execute_result"
    }
   ],
   "source": [
    "a .dot(b)"
   ]
  },
  {
   "cell_type": "code",
   "execution_count": 9,
   "id": "38a4ed8e",
   "metadata": {},
   "outputs": [
    {
     "data": {
      "text/plain": [
       "array([[ 0,  1,  2,  3,  4],\n",
       "       [ 5,  6,  7,  8,  9],\n",
       "       [10, 11, 12, 13, 14],\n",
       "       [15, 16, 17, 18, 19]])"
      ]
     },
     "execution_count": 9,
     "metadata": {},
     "output_type": "execute_result"
    }
   ],
   "source": [
    "import numpy as np\n",
    "m = np.arange(20).reshape(4,5)\n",
    "m"
   ]
  },
  {
   "cell_type": "code",
   "execution_count": 10,
   "id": "e8957add",
   "metadata": {},
   "outputs": [
    {
     "data": {
      "text/plain": [
       "array([10, 35, 60, 85])"
      ]
     },
     "execution_count": 10,
     "metadata": {},
     "output_type": "execute_result"
    }
   ],
   "source": [
    "m.sum(axis=1)\n",
    "# Sum of each element of row"
   ]
  },
  {
   "cell_type": "code",
   "execution_count": 11,
   "id": "40e1dc5e",
   "metadata": {},
   "outputs": [
    {
     "name": "stdout",
     "output_type": "stream",
     "text": [
      "[1 1 1]\n"
     ]
    },
    {
     "data": {
      "text/plain": [
       "array([0.        , 1.57079633, 3.14159265])"
      ]
     },
     "execution_count": 11,
     "metadata": {},
     "output_type": "execute_result"
    }
   ],
   "source": [
    "\n",
    "import numpy as np \n",
    "a = np.ones(3, dtype=np.int32) # prints 1\n",
    "print(a)\n",
    "b = np.linspace(0,np.pi,3) #returns evenly spaced numbers over a specified interval.\n",
    "b"
   ]
  },
  {
   "cell_type": "code",
   "execution_count": 12,
   "id": "1aca54d6",
   "metadata": {},
   "outputs": [
    {
     "name": "stdout",
     "output_type": "stream",
     "text": [
      "[1.         2.57079633 4.14159265]\n",
      "float64\n",
      "[ 0.54030231+0.84147098j -0.84147098+0.54030231j -0.54030231-0.84147098j]\n"
     ]
    },
    {
     "data": {
      "text/plain": [
       "dtype('complex128')"
      ]
     },
     "execution_count": 12,
     "metadata": {},
     "output_type": "execute_result"
    }
   ],
   "source": [
    "c = a + b\n",
    "print(c)\n",
    "print(c.dtype)\n",
    "d = np.exp(c * 1j)\n",
    "print(d)\n",
    "d.dtype"
   ]
  },
  {
   "cell_type": "code",
   "execution_count": 9,
   "id": "248e4ca0",
   "metadata": {},
   "outputs": [
    {
     "name": "stdout",
     "output_type": "stream",
     "text": [
      "[  0   1   8  27  64 125 216 343 512 729]\n",
      "[ 8 27 64]\n"
     ]
    },
    {
     "data": {
      "text/plain": [
       "array([  0,   8,  64, 216, 512])"
      ]
     },
     "execution_count": 9,
     "metadata": {},
     "output_type": "execute_result"
    }
   ],
   "source": [
    "import numpy as np\n",
    "a = np.arange(10)**3\n",
    "print(a)\n",
    "print(a[2:5]) #print index from 2 to 4\n",
    "a[0:9:2]  #print up to 8 index including only 2nd element\n"
   ]
  },
  {
   "cell_type": "code",
   "execution_count": 17,
   "id": "8f18be29",
   "metadata": {},
   "outputs": [
    {
     "name": "stdout",
     "output_type": "stream",
     "text": [
      "[[ 0  1  2  3]\n",
      " [10 11 12 13]\n",
      " [20 21 22 23]\n",
      " [30 31 32 33]\n",
      " [40 41 42 43]]\n",
      "32\n"
     ]
    },
    {
     "data": {
      "text/plain": [
       "array([ 2, 12, 22, 32, 42])"
      ]
     },
     "execution_count": 17,
     "metadata": {},
     "output_type": "execute_result"
    }
   ],
   "source": [
    "import numpy as np\n",
    "def f(x,y):\n",
    "    return 10 * x + y\n",
    "\n",
    "b = np.fromfunction(f, (5,4), dtype=int)\n",
    "print(b)\n",
    "print(b[3,2])\n",
    "b[0:5,2]"
   ]
  },
  {
   "cell_type": "code",
   "execution_count": 5,
   "id": "bb60a27b",
   "metadata": {},
   "outputs": [
    {
     "name": "stdout",
     "output_type": "stream",
     "text": [
      "sorted array \n",
      " [1 1 2 3 4 4]\n",
      "2d_sorted_array \n",
      " [[1 1]\n",
      " [2 1]\n",
      " [3 3]]\n"
     ]
    }
   ],
   "source": [
    "#sorting\n",
    "import numpy as np\n",
    "unsorted = np.array([1,4,4,3,2,1])\n",
    "print(\"sorted array \\n\", np.sort(unsorted))\n",
    "array_2d_unsorted = np.array([[3,1],[2,1],[1,3]])\n",
    "print(\"2d_sorted_array \\n\", np.sort(array_2d_unsorted, axis = 0))"
   ]
  },
  {
   "cell_type": "code",
   "execution_count": 6,
   "id": "096e9bdb",
   "metadata": {},
   "outputs": [
    {
     "name": "stdout",
     "output_type": "stream",
     "text": [
      "Even numbers \n",
      " [2 4 6 8]\n"
     ]
    }
   ],
   "source": [
    "#filter\n",
    "numbers = np.array([1,2,3,4,5,6,7,8,9])\n",
    "even_numbers = numbers[numbers %2 == 0]\n",
    "print(\"Even numbers \\n\", even_numbers)\n"
   ]
  },
  {
   "cell_type": "code",
   "execution_count": 9,
   "id": "f374a065",
   "metadata": {},
   "outputs": [
    {
     "name": "stdout",
     "output_type": "stream",
     "text": [
      "Index number \n",
      " [1 3 5]\n",
      "Np where \n",
      " [6 7 8 9]\n"
     ]
    }
   ],
   "source": [
    "#fancy indexing and np.where()\n",
    "indices = [0,2,4]\n",
    "print(\"Index number \\n\", numbers[indices])\n",
    "result = np.where(numbers > 5)\n",
    "print(\"Np where \\n\", numbers[result])\n"
   ]
  },
  {
   "cell_type": "code",
   "execution_count": 11,
   "id": "1f3b1557",
   "metadata": {},
   "outputs": [
    {
     "name": "stdout",
     "output_type": "stream",
     "text": [
      "Condition_array \n",
      " [ 1  2  3  4  5 24 28 32 36]\n"
     ]
    }
   ],
   "source": [
    "condition_array = np.where(numbers > 5, numbers*4, numbers)\n",
    "# if numbers > 5 multiply it by 4 else remains as it is\n",
    "print(\"Condition_array \\n\", condition_array)"
   ]
  },
  {
   "cell_type": "code",
   "execution_count": 13,
   "id": "28be140a",
   "metadata": {},
   "outputs": [
    {
     "name": "stdout",
     "output_type": "stream",
     "text": [
      "combined_array \n",
      " [1 2 3 4 5 6]\n"
     ]
    }
   ],
   "source": [
    "#Adding and removing data\n",
    "arr1 = np.array([1,2,3])\n",
    "arr2 = np.array([4,5,6])\n",
    "combined = np.concatenate((arr1, arr2))\n",
    "print(\"combined_array \\n\", combined)"
   ]
  },
  {
   "cell_type": "code",
   "execution_count": 14,
   "id": "91d91507",
   "metadata": {},
   "outputs": [
    {
     "name": "stdout",
     "output_type": "stream",
     "text": [
      "compatibilty shapes False\n"
     ]
    }
   ],
   "source": [
    "# array compatibilty\n",
    "a = np.array([1,2,3])\n",
    "b = np.array([4,5,6,7])\n",
    "print(\"compatibilty shapes\", a.shape == b.shape)"
   ]
  },
  {
   "cell_type": "code",
   "execution_count": 17,
   "id": "ec65f959",
   "metadata": {},
   "outputs": [
    {
     "name": "stdout",
     "output_type": "stream",
     "text": [
      "[[2 4]\n",
      " [3 6]]\n",
      "With new row \n",
      " [[2 4]\n",
      " [3 6]\n",
      " [7 8]]\n",
      "With new col \n",
      " [[2 4 7]\n",
      " [3 6 8]]\n"
     ]
    }
   ],
   "source": [
    "original = np.array([[2,4],[3,6]])\n",
    "new_row = np.array([7,8])\n",
    "\n",
    "with_new_row = np.vstack((original, new_row))\n",
    "print(original)\n",
    "print(\"With new row \\n\", with_new_row)\n",
    "new_col = np.array([[7],[8]])\n",
    "with_new_col = np.hstack((original, new_col))\n",
    "print(\"With new col \\n\", with_new_col)"
   ]
  },
  {
   "cell_type": "code",
   "execution_count": 20,
   "id": "3f9046ae",
   "metadata": {},
   "outputs": [
    {
     "name": "stdout",
     "output_type": "stream",
     "text": [
      "array after deletion \n",
      " [1 2 4 5]\n"
     ]
    }
   ],
   "source": [
    "arr = np.array([1,2,3,4,5])\n",
    "deleted = np.delete(arr, 2)\n",
    "print(\"array after deletion \\n\", deleted)\n"
   ]
  },
  {
   "cell_type": "code",
   "execution_count": null,
   "id": "dfbe1017",
   "metadata": {},
   "outputs": [],
   "source": [
    " "
   ]
  }
 ],
 "metadata": {
  "kernelspec": {
   "display_name": "Python 3",
   "language": "python",
   "name": "python3"
  },
  "language_info": {
   "codemirror_mode": {
    "name": "ipython",
    "version": 3
   },
   "file_extension": ".py",
   "mimetype": "text/x-python",
   "name": "python",
   "nbconvert_exporter": "python",
   "pygments_lexer": "ipython3",
   "version": "3.13.7"
  }
 },
 "nbformat": 4,
 "nbformat_minor": 5
}
